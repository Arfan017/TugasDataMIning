{
  "nbformat": 4,
  "nbformat_minor": 0,
  "metadata": {
    "colab": {
      "name": "201955202093_Muhammad_Arfan_tugas_1pythonbasic.ipynb",
      "provenance": [],
      "collapsed_sections": []
    },
    "kernelspec": {
      "name": "python3",
      "display_name": "Python 3"
    },
    "language_info": {
      "name": "python"
    }
  },
  "cells": [
    {
      "cell_type": "markdown",
      "source": [
        "## Notebook 1: Dasar-dasar dan Perencanaan‎¶"
      ],
      "metadata": {
        "id": "pHwkXZBT_brR"
      }
    },
    {
      "cell_type": "markdown",
      "source": [
        "‎Langkah Python pertama‎"
      ],
      "metadata": {
        "id": "NiMR8sbb_vxw"
      }
    },
    {
      "cell_type": "code",
      "execution_count": null,
      "metadata": {
        "id": "QJJ5sjqrx72p"
      },
      "outputs": [],
      "source": [
        "2*6"
      ]
    },
    {
      "cell_type": "code",
      "source": [
        "a = 6\n",
        "b = 2\n",
        "a * b"
      ],
      "metadata": {
        "id": "gUP0eLMZzN2P"
      },
      "execution_count": null,
      "outputs": []
    },
    {
      "cell_type": "code",
      "source": [
        "print(a)\n",
        "print(b)\n",
        "print(a * b)\n",
        "print(a / b)"
      ],
      "metadata": {
        "id": "ir3YjDWwzXB_"
      },
      "execution_count": null,
      "outputs": []
    },
    {
      "cell_type": "code",
      "source": [
        "print('the value of a is', a)"
      ],
      "metadata": {
        "id": "3nzcLh8Oza0s"
      },
      "execution_count": null,
      "outputs": []
    },
    {
      "cell_type": "code",
      "source": [
        "a ** b"
      ],
      "metadata": {
        "id": "UW3-tLjhze_g"
      },
      "execution_count": null,
      "outputs": []
    },
    {
      "cell_type": "code",
      "source": [
        "print('1/3 gives', 1 / 3)"
      ],
      "metadata": {
        "id": "zkO_Stu0zod8"
      },
      "execution_count": null,
      "outputs": []
    },
    {
      "cell_type": "code",
      "source": [
        "a = 1\n",
        "b = 3\n",
        "c = a / b\n",
        "print(f'{a} divided by {b} gives {c}')"
      ],
      "metadata": {
        "id": "BNo6vccCzsHg"
      },
      "execution_count": null,
      "outputs": []
    },
    {
      "cell_type": "code",
      "source": [
        "print(f'{a} divided by {b} gives {c:.3f}') # three decimal places\n",
        "print(f'{a} divided by {b} gives {c:10.3f}') # width 10 and three decimal places\n",
        "print(f'{a} divided by {b} gives {c:.3e}') # three decimal places scientific notation"
      ],
      "metadata": {
        "id": "oyPi6reSz4aw"
      },
      "execution_count": null,
      "outputs": []
    },
    {
      "cell_type": "code",
      "source": [
        "print(f'the value of a is: {a}')\n",
        "print(f'the value of b is: {b}')"
      ],
      "metadata": {
        "id": "Ei0iKwJr0BM-"
      },
      "execution_count": null,
      "outputs": []
    },
    {
      "cell_type": "code",
      "source": [
        "%matplotlib inline\n",
        "import matplotlib.pyplot as plt"
      ],
      "metadata": {
        "id": "pr8K8XBv0FLk"
      },
      "execution_count": null,
      "outputs": []
    },
    {
      "cell_type": "code",
      "source": [
        "plt.plot([1, 2, 4, 2])"
      ],
      "metadata": {
        "id": "3ReuMP8P0PPO"
      },
      "execution_count": null,
      "outputs": []
    },
    {
      "cell_type": "code",
      "source": [
        "import numpy as np"
      ],
      "metadata": {
        "id": "0ePWqbLp0VuO"
      },
      "execution_count": null,
      "outputs": []
    },
    {
      "cell_type": "code",
      "source": [
        "x = np.linspace(-4, 4, 5)\n",
        "print(x)"
      ],
      "metadata": {
        "id": "iuPAl9qg0e_g"
      },
      "execution_count": null,
      "outputs": []
    },
    {
      "cell_type": "code",
      "source": [
        "a = 1\n",
        "b = 1\n",
        "c = -6\n",
        "x = np.linspace(-4, 4, 100)\n",
        "y = a * x ** 2 + b * x + c  # Compute y for all x values\n",
        "plt.plot(x, y)"
      ],
      "metadata": {
        "id": "NFSl-2Wi0jbJ"
      },
      "execution_count": null,
      "outputs": []
    },
    {
      "cell_type": "code",
      "source": [
        "plt.plot([1, 2, 3], [2, 4, 3], linewidth=6);"
      ],
      "metadata": {
        "id": "VvwL7nj_0oCp"
      },
      "execution_count": null,
      "outputs": []
    },
    {
      "cell_type": "code",
      "source": [
        "plt.figure(figsize=(10, 3))\n",
        "plt.plot([1, 2, 3], [2, 4, 3], linewidth=6)\n",
        "plt.title('very wide figure')\n",
        "plt.figure()  # new figure of default size\n",
        "plt.plot([1, 2, 3], [1, 3, 1], 'r')\n",
        "plt.title('second figure');"
      ],
      "metadata": {
        "id": "A_vd1WV80r5g"
      },
      "execution_count": null,
      "outputs": []
    },
    {
      "cell_type": "markdown",
      "source": [
        "***Latihan 1a, kode Python Pertama‎***\n",
        "\n",
        "‎Menghitung nilai polinomial ‎‎dan‎=‎sebuah‎x2+‎bx‎‎+‎‎c‎‎ di ‎x=−2, x=0‎dan ‎x=2.1‎ menggunakan ‎a=1, b=1, c=−6‎ dan mencetak hasilnya ke layar.‎"
      ],
      "metadata": {
        "id": "_iAoDHMOBFw4"
      }
    },
    {
      "cell_type": "code",
      "source": [
        "a = 1\n",
        "b = 1\n",
        "c = -6\n",
        "x = -2\n",
        "y = a * x ** 2 + b * x + c\n",
        "print('y evaluated at x = -2 is', y)\n",
        "x = 0 \n",
        "y = a * x ** 2 + b * x + c\n",
        "print('y evaluated at x = 0 is', y)\n",
        "x = 2.1\n",
        "y = a * x ** 2 + b * x + c\n",
        "print('y evaluated at x = 2 is', y)"
      ],
      "metadata": {
        "id": "ZTveDniVBVNo"
      },
      "execution_count": null,
      "outputs": []
    },
    {
      "cell_type": "markdown",
      "source": [
        "***Latihan 1b, kode Python Pertama menggunakan f-string‎***\n",
        "\n",
        "‎Menghitung nilai polinomial ‎‎dan‎=‎sebuah‎x2+‎bx‎‎+‎‎c‎‎ di ‎x=−2, x=0‎dan ‎x=2.1‎ menggunakan ‎a=1, b=1, c=−6‎ dan cetak hasilnya ke layar menggunakan f-string dan 2 tempat desimal.‎"
      ],
      "metadata": {
        "id": "N8dE5dMvBxkX"
      }
    },
    {
      "cell_type": "code",
      "source": [
        "a = 1\n",
        "b = 1\n",
        "c = -6\n",
        "x = -2\n",
        "y = a * x ** 2 + b * x + c\n",
        "print(f'y evaluated at x = {x} is {y}')\n",
        "x = 0 \n",
        "y = a * x ** 2 + b * x + c\n",
        "print(f'y evaluated at x = {x} is {y}')\n",
        "x = 2.1\n",
        "y = a * x ** 2 + b * x + c\n",
        "print(f'y evaluated at x = {x} is {y:.2f}')"
      ],
      "metadata": {
        "id": "5suUmB-hB1pd"
      },
      "execution_count": null,
      "outputs": []
    },
    {
      "cell_type": "markdown",
      "source": [
        "***‎ Latihan 2, Grafik pertama‎***"
      ],
      "metadata": {
        "id": "9FA_XkoKCS4z"
      }
    },
    {
      "cell_type": "markdown",
      "source": [
        "‎Komplot ‎‎dan‎=(x+2)(x−1)(x−2)‎ bagi ‎x‎ pergi dari ‎−3‎ ke ‎+3‎ menggunakan garis merah putus-putus. Pada angka yang sama, plot lingkaran biru untuk setiap titik di mana ‎‎dan‎‎ sama dengan nol. Atur ukuran penanda menjadi 10 (Anda mungkin perlu membaca bantuan untuk mengetahui cara melakukannya). Beri label sumbu sebagai 'sumbu x' dan 'sumbu y'. Tambahkan judul 'Gambar Python bagus pertama dari Nama Anda', di mana Anda memasukkan nama Anda sendiri.‎plt.plot"
      ],
      "metadata": {
        "id": "N99UsctiCVFE"
      }
    },
    {
      "cell_type": "code",
      "source": [
        "x = np.linspace(-3, 3, 100)\n",
        "y = (x + 2) * (x - 1) * (x - 2)\n",
        "plt.plot(x, y, 'r--')\n",
        "plt.plot([-2, 1, 2], [0, 0, 0], 'bo', markersize=10)\n",
        "plt.xlabel('x-axis')\n",
        "plt.ylabel('y-axis')\n",
        "plt.title('First Python Figure of Mark Bakker');"
      ],
      "metadata": {
        "id": "CXD6Q9j_CZFR"
      },
      "execution_count": null,
      "outputs": []
    },
    {
      "cell_type": "code",
      "source": [
        "a=1\n",
        "b=1\n",
        "c=-6\n",
        "x=np.linspace(-4,4,100)\n",
        "y=a*x**2+b*x+c#Compute y for all x values\n",
        "plt.plot(x,y,linewidth=3)"
      ],
      "metadata": {
        "id": "mmNdIV3B04y-"
      },
      "execution_count": null,
      "outputs": []
    },
    {
      "cell_type": "code",
      "source": [
        "a = 1\n",
        "b = 1\n",
        "c = -6\n",
        "x = np.linspace(-4, 4, 100)\n",
        "y = a * x**2 + b * x + c  # Compute y for all x values\n",
        "plt.plot(x, y, linewidth=3);"
      ],
      "metadata": {
        "id": "pgB2AQea1AZw"
      },
      "execution_count": null,
      "outputs": []
    },
    {
      "cell_type": "markdown",
      "source": [
        "***‎ Latihan 3, Memuat data dan menambahkan legenda‎***"
      ],
      "metadata": {
        "id": "TfHiy8NPDtLU"
      }
    },
    {
      "cell_type": "code",
      "source": [
        "holland = np.loadtxt('sample_data/holland_temperature.dat')\n",
        "newyork= np.loadtxt('sample_data/newyork_temperature.dat')\n",
        "beijing = np.loadtxt('sample_data/beijing_temperature.dat')\n",
        "plt.plot(np.linspace(1, 12, 12), holland)\n",
        "plt.plot(np.linspace(1, 12, 12), newyork)\n",
        "plt.plot(np.linspace(1, 12, 12), beijing)\n",
        "plt.xlabel('Number of the month')\n",
        "plt.ylabel('Mean monthly temperature (Celcius)')\n",
        "plt.xticks(np.linspace(1, 12, 12))\n",
        "plt.legend(['Holland','New York','Beijing'], loc='best');"
      ],
      "metadata": {
        "id": "mz84cx1cDvub"
      },
      "execution_count": null,
      "outputs": []
    },
    {
      "cell_type": "markdown",
      "source": [
        "***‎ Latihan 4, Subplot dan spidol kutu mewah‎***"
      ],
      "metadata": {
        "id": "4QshDIczD94O"
      }
    },
    {
      "cell_type": "code",
      "source": [
        "air = np.loadtxt('sample_data/holland_temperature.dat') \n",
        "sea = np.loadtxt('sample_data/holland_seawater.dat')\n",
        "plt.subplot(211)\n",
        "plt.plot(air, 'b', label='air temp')\n",
        "plt.plot(sea, 'r', label='sea temp')\n",
        "plt.legend(loc='best')\n",
        "plt.ylabel('temp (Celcius)')\n",
        "plt.xlim(0, 11)\n",
        "plt.xticks([])\n",
        "plt.subplot(212)\n",
        "plt.plot(air-sea, 'ko')\n",
        "plt.xticks(np.linspace(0, 11, 12),\n",
        "           ['jan','feb','mar','apr','may','jun','jul','aug','sep','oct','nov','dec'])\n",
        "plt.xlim(0, 11)\n",
        "plt.ylabel('air - sea temp (Celcius)');"
      ],
      "metadata": {
        "id": "WGybmvOjEB0d"
      },
      "execution_count": null,
      "outputs": []
    },
    {
      "cell_type": "code",
      "source": [
        "plt.plot([0, 1], [0, 1], 'C0')\n",
        "plt.plot([0, 1], [1, 2], 'C1')\n",
        "plt.plot([0, 1], [2, 3], 'C2')\n",
        "plt.legend(['default blue', 'default orange', 'default green']);"
      ],
      "metadata": {
        "id": "A918ANBJ1Frb"
      },
      "execution_count": null,
      "outputs": []
    },
    {
      "cell_type": "code",
      "source": [
        "color1 = 'fuchsia'\n",
        "color2 = 'lime'\n",
        "color3 = 'DodgerBlue'\n",
        "plt.plot([0, 1], [0, 1], color1)\n",
        "plt.plot([0, 1], [1, 2], color2)\n",
        "plt.plot([0, 1], [2, 3], color3)\n",
        "plt.legend([color1, color2, color3]);"
      ],
      "metadata": {
        "id": "sdJvLlIW1MUl"
      },
      "execution_count": null,
      "outputs": []
    },
    {
      "cell_type": "code",
      "source": [
        "plt.plot([1, 2, 3], [4, 5, 2], 'xkcd:baby puke green');\n",
        "plt.title('xkcd color baby puke green');"
      ],
      "metadata": {
        "id": "RlUUfZAs1TNP"
      },
      "execution_count": null,
      "outputs": []
    },
    {
      "cell_type": "markdown",
      "source": [
        "***Exercise 5, Pie Chart***"
      ],
      "metadata": {
        "id": "YSo0PzvcESWW"
      }
    },
    {
      "cell_type": "code",
      "source": [
        "gold = [46, 38, 29, 24, 13, 11, 11, 8, 8, 7, 107]\n",
        "countries = ['USA', 'CHN', 'GBR', 'RUS', 'KOR', 'GER', 'FRA', 'ITA', 'HUN', 'AUS', 'OTHER']\n",
        "plt.pie(gold, labels = countries, colors = ['Gold', 'MediumBlue', 'SpringGreen', 'BlueViolet'])\n",
        "plt.axis('equal');"
      ],
      "metadata": {
        "id": "72Qms11v-pZW"
      },
      "execution_count": null,
      "outputs": []
    },
    {
      "cell_type": "markdown",
      "source": [
        "***Exercise 6, Fill between***"
      ],
      "metadata": {
        "id": "aUvPyDezEX8w"
      }
    },
    {
      "cell_type": "code",
      "source": [
        "air = np.loadtxt('sample_data/holland_temperature.dat') \n",
        "sea = np.loadtxt('sample_data/holland_seawater.dat')\n",
        "plt.fill_between(range(1, 13), air, color='b', alpha=0.3)\n",
        "plt.fill_between(range(1, 13), sea, color='r', alpha=0.3)\n",
        "plt.xticks(np.arange(1, 13), ['jan', 'feb', 'mar', 'apr',\\\n",
        "           'may', 'jun', 'jul', 'aug', 'sep', ' oct', 'nov', 'dec'])\n",
        "plt.xlabel('Month')\n",
        "plt.ylabel('Temperature (Celcius)');"
      ],
      "metadata": {
        "id": "SW59iSfn-s70"
      },
      "execution_count": null,
      "outputs": []
    }
  ]
}