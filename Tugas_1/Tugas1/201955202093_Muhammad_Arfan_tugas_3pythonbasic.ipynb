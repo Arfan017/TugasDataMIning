{
  "nbformat": 4,
  "nbformat_minor": 0,
  "metadata": {
    "colab": {
      "name": "201955202093_Muhammad_Arfan_tugas_3pythonbasic.ipynb",
      "provenance": [],
      "collapsed_sections": []
    },
    "kernelspec": {
      "name": "python3",
      "display_name": "Python 3"
    },
    "language_info": {
      "name": "python"
    }
  },
  "cells": [
    {
      "cell_type": "markdown",
      "source": [
        "## **Buku catatan 3: loop dan pernyataan‎forif/else**"
      ],
      "metadata": {
        "id": "oIp0ACgvUFLD"
      }
    },
    {
      "cell_type": "markdown",
      "source": [
        "‎Seperti yang akan kita gunakan lagi dan , kita mulai dengan mengimpornya‎numpymatplotlib"
      ],
      "metadata": {
        "id": "4oHlU0vDURQv"
      }
    },
    {
      "cell_type": "code",
      "execution_count": null,
      "metadata": {
        "id": "EZN7yRJX0QtS"
      },
      "outputs": [],
      "source": [
        "%matplotlib inline\n",
        "import numpy as np\n",
        "import matplotlib.pyplot as plt"
      ]
    },
    {
      "cell_type": "markdown",
      "source": [
        "**‎Loop‎for**\n"
      ],
      "metadata": {
        "id": "RWIoaR3jV7eg"
      }
    },
    {
      "cell_type": "markdown",
      "source": [
        "‎Loop digunakan untuk menjalankan perintah berulang kali. Sintaks untuk loop adalah sebagai berikut‎"
      ],
      "metadata": {
        "id": "9Bnmp4faV9jp"
      }
    },
    {
      "cell_type": "code",
      "source": [
        "for i in [0, 1, 2, 3, 4]:\n",
        "    print('Hello world, the value of i is', i)"
      ],
      "metadata": {
        "id": "VUnLmRwx0-N2"
      },
      "execution_count": null,
      "outputs": []
    },
    {
      "cell_type": "code",
      "source": [
        "for x in [0, 1, 2, 3]: \n",
        "    xsquared = x ** 2\n",
        "    print('x, xsquare', x, xsquared)\n",
        "print('We are done with the loop')"
      ],
      "metadata": {
        "id": "ppi-d1S61CcK"
      },
      "execution_count": null,
      "outputs": []
    },
    {
      "cell_type": "code",
      "source": [
        "for data in [20, 'mark', np.sqrt(10)]:\n",
        "    print('the value of data is:', data)"
      ],
      "metadata": {
        "id": "qSx_47UG1HMT"
      },
      "execution_count": null,
      "outputs": []
    },
    {
      "cell_type": "code",
      "source": [
        "for i in range(10):\n",
        "    print('the value of i is:', i)"
      ],
      "metadata": {
        "id": "KXyNzTsX1Lbn"
      },
      "execution_count": null,
      "outputs": []
    },
    {
      "cell_type": "code",
      "source": [
        "print('a range with 10 values:', list(range(10)))\n",
        "print('a range from 10 till 20', list(range(10, 20)))\n",
        "print('a range from 10 till 20 with steps of 2:', list(range(10, 20, 2)))"
      ],
      "metadata": {
        "id": "-oBYtpNu1O2H"
      },
      "execution_count": null,
      "outputs": []
    },
    {
      "cell_type": "code",
      "source": [
        "x = np.linspace(0, 2 * np.pi, 100)\n",
        "y = np.zeros_like(x)  # similar to zeros(shape(x))\n",
        "for i in range(len(x)):\n",
        "    y[i] = np.cos(x[i])\n",
        "plt.plot(x, y);"
      ],
      "metadata": {
        "id": "cHY9ly-X1UHx"
      },
      "execution_count": null,
      "outputs": []
    },
    {
      "cell_type": "markdown",
      "source": [
        "**‎Pernyataan‎ if**"
      ],
      "metadata": {
        "id": "VC_Oozo1WIDo"
      }
    },
    {
      "cell_type": "markdown",
      "source": [
        "Pernyataan memungkinkan Anda melakukan tugas hanya jika hasil pernyataan itu benar. Misalnya‎ifif"
      ],
      "metadata": {
        "id": "BCxC8ArxWJ-A"
      }
    },
    {
      "cell_type": "code",
      "source": [
        "data = 4\n",
        "print('starting value:', data)\n",
        "if data < 6:\n",
        "    print('changing data in the first if-statement')\n",
        "    data = data + 2\n",
        "print('value after the first if-statement:', data)\n",
        "if data > 20:\n",
        "    print('changing data in the second if-statement')\n",
        "    data = 200\n",
        "print('value after the second if-statement:', data)  # data hasn't changed as data is not larger than 20"
      ],
      "metadata": {
        "id": "jLPcKSVj10JK"
      },
      "execution_count": null,
      "outputs": []
    },
    {
      "cell_type": "markdown",
      "source": [
        "**Pernyataan /‎ifelse**"
      ],
      "metadata": {
        "id": "ZeWTffdRWU1H"
      }
    },
    {
      "cell_type": "markdown",
      "source": [
        "‎Pernyataan tersebut dapat diikuti dengan pernyataan, yang dieksekusi ketika kondisi setelahnya adalah . Misalnya‎ifelseifFalse"
      ],
      "metadata": {
        "id": "sE11N1hCWZRH"
      }
    },
    {
      "cell_type": "code",
      "source": [
        "a = 4\n",
        "if a < 3:\n",
        "    print('a is smaller than 3')\n",
        "else:\n",
        "    print('a is not smaller than 3')"
      ],
      "metadata": {
        "id": "JfVaWdWH16ZG"
      },
      "execution_count": null,
      "outputs": []
    },
    {
      "cell_type": "code",
      "source": [
        "a = 4\n",
        "if a < 4:\n",
        "    print('a is smaller than 4')\n",
        "elif a > 4:\n",
        "    print('a is larger than 4')\n",
        "else:\n",
        "    print('a is equal to 4')"
      ],
      "metadata": {
        "id": "3QtQ-oLv1_Qi"
      },
      "execution_count": null,
      "outputs": []
    },
    {
      "cell_type": "code",
      "source": [
        "for i in range(3): # do this 3 times\n",
        "    a = float(input('Enter a value: '))\n",
        "    if a < 4:\n",
        "        print('the entered value is smaller than 4')\n",
        "    elif a > 4:\n",
        "        print('the entered value is larger than 4')\n",
        "    else:\n",
        "        print('the entered value is equal to 4')"
      ],
      "metadata": {
        "id": "A9REil0o-U-1"
      },
      "execution_count": null,
      "outputs": []
    },
    {
      "cell_type": "markdown",
      "source": [
        "Perulangan dan **penjumlahan‎**"
      ],
      "metadata": {
        "id": "JvXTRbTvXMbw"
      }
    },
    {
      "cell_type": "markdown",
      "source": [
        "‎Salah satu aplikasi loop adalah menghitung jumlah semua nilai dalam array. Pertimbangkan, misalnya, array dengan 8 nilai. Kami akan menghitung jumlah semua nilai dalam . Pertama-tama kita mendefinisikan variabel dan menetapkannya nilai awal 0. Selanjutnya, kita loop melalui semua nilai dalam dan menambahkan setiap nilai untuk:‎datadatadatasumdatadatasum"
      ],
      "metadata": {
        "id": "jlw_RkBEXOB5"
      }
    },
    {
      "cell_type": "code",
      "source": [
        "data = np.array([1, 3, 2, 5, 7, 3, 4, 2])\n",
        "datasum = 0\n",
        "for i in range(len(data)):\n",
        "    datasum = datasum + data[i]\n",
        "    print('i, datasum: ', i, datasum)\n",
        "print('total sum of data: ', datasum)"
      ],
      "metadata": {
        "id": "eZ6P8bJk5iVn"
      },
      "execution_count": null,
      "outputs": []
    },
    {
      "cell_type": "markdown",
      "source": [
        "**Menemukan nilai maksimum dengan cara yang sulit‎**"
      ],
      "metadata": {
        "id": "7T8CM5yNXXle"
      }
    },
    {
      "cell_type": "code",
      "source": [
        "maxvalue = -1e8\n",
        "maxindex = None\n",
        "for i in range(len(data)):\n",
        "    if data[i] > maxvalue:\n",
        "        maxvalue = data[i]\n",
        "        maxindex = i\n",
        "print('the maximum value is ', maxvalue)\n",
        "print('the index of the maximum value is ', maxindex)"
      ],
      "metadata": {
        "id": "QaPL0in75p2T"
      },
      "execution_count": null,
      "outputs": []
    },
    {
      "cell_type": "code",
      "source": [
        "print('the maximum value is ', np.max(data))\n",
        "print('the index of the maximum value is ', np.argmax(data))"
      ],
      "metadata": {
        "id": "inVXyS4B5vTU"
      },
      "execution_count": null,
      "outputs": []
    },
    {
      "cell_type": "markdown",
      "source": [
        "‎**Loop bersarang‎**"
      ],
      "metadata": {
        "id": "TduyrBlvXg1R"
      }
    },
    {
      "cell_type": "code",
      "source": [
        "data = np.array([[1, 2, 3, 5],\n",
        "                 [4, 8, 6, 4],\n",
        "                 [3, 5, 4, 6]])\n",
        "rowtotal = np.zeros(3)\n",
        "for irow in range(3):\n",
        "    for jcol in range(4):\n",
        "        rowtotal[irow] += data[irow, jcol]\n",
        "        #longer alternative:\n",
        "        #rowtotal[irow] = rowtotal[irow] + data[irow, jcol]\n",
        "print(rowtotal)"
      ],
      "metadata": {
        "id": "W_Ll5enq6Bk0"
      },
      "execution_count": null,
      "outputs": []
    },
    {
      "cell_type": "code",
      "source": [
        "print('sum of entire array:', np.sum(data))\n",
        "print('sum rows (axis=0):', np.sum(data, axis=0))\n",
        "print('sum columns (axis=1):', np.sum(data, axis=1))"
      ],
      "metadata": {
        "id": "3keLaQ8D6KRp"
      },
      "execution_count": null,
      "outputs": []
    },
    {
      "cell_type": "markdown",
      "source": [
        "break‎ dan ‎while"
      ],
      "metadata": {
        "id": "WEmJzkdaXoJN"
      }
    },
    {
      "cell_type": "code",
      "source": [
        "x = [1, 4, 5, 8, 9]\n",
        "a = 6\n",
        "for i in range(len(x)):\n",
        "    if a < x[i]:\n",
        "        break\n",
        "print('a is between', x[i-1], 'and', x[i])"
      ],
      "metadata": {
        "id": "oovR7aVY6NmJ"
      },
      "execution_count": null,
      "outputs": []
    },
    {
      "cell_type": "code",
      "source": [
        "x = [1, 4, 5, 8, 9]\n",
        "a = 6\n",
        "i = 0\n",
        "while a >= x[i]:\n",
        "    i = i + 1\n",
        "print('a is between', x[i-1], 'and', x[i])"
      ],
      "metadata": {
        "id": "_YmJf0SQ7DBi"
      },
      "execution_count": null,
      "outputs": []
    },
    {
      "cell_type": "markdown",
      "source": [
        "String‎"
      ],
      "metadata": {
        "id": "bvOLI5mmXtaY"
      }
    },
    {
      "cell_type": "code",
      "source": [
        "text1 = 'Goodmorning everybody'\n",
        "print(len(text1))\n",
        "print(text1[0])\n",
        "print(text1[0:12])"
      ],
      "metadata": {
        "id": "SJDP-API7OON"
      },
      "execution_count": null,
      "outputs": []
    },
    {
      "cell_type": "code",
      "source": [
        "text1 = 'Goodmorning everybody'\n",
        "newtext = text1 + ' in the class'  # Adding two srings\n",
        "print(newtext)\n",
        "a = 7\n",
        "mes = 'The magic number is ' + str(a)  # Combining strings and numbers\n",
        "print(mes)"
      ],
      "metadata": {
        "id": "II4krZul7XcW"
      },
      "execution_count": null,
      "outputs": []
    },
    {
      "cell_type": "code",
      "source": [
        "print('delft' < 'eindhoven')  # True as 'd' is smaller than 'e'\n",
        "print('dalft' < 'delft')      # True as 'a' is smaller than 'e'\n",
        "print('delft' == 'Delft')     # False as lower and upper case are not equal\n",
        "print('Delft' < 'delft')      # True as 'D' is smaller than 'd'\n",
        "print('delft' > 'Eindhoven')  # Also True, as 'd' is larger than 'E' or any other upper case character"
      ],
      "metadata": {
        "id": "phncy7L67blx"
      },
      "execution_count": null,
      "outputs": []
    },
    {
      "cell_type": "code",
      "source": [
        "TU = 'TU Delft'\n",
        "print(TU)\n",
        "print(TU.lower())\n",
        "print(TU.upper())"
      ],
      "metadata": {
        "id": "3f8mFtaT7iz2"
      },
      "execution_count": null,
      "outputs": []
    },
    {
      "cell_type": "code",
      "source": [
        "sentence = 'This is a sentence containing a number of words'\n",
        "print('This is the sentence:', sentence)\n",
        "wordlist = sentence.split()\n",
        "print('This is the split sentence:', wordlist)\n",
        "print('All words may be printed seperately:')\n",
        "for word in wordlist:\n",
        "    print(word)"
      ],
      "metadata": {
        "id": "f-dV1PYI7o8A"
      },
      "execution_count": null,
      "outputs": []
    },
    {
      "cell_type": "markdown",
      "source": [
        "***Latihan 1. Pertama untuk loop***\n",
        "\n",
        "Buat daftar dengan nama bulan. Buat daftar kedua dengan jumlah hari di setiap bulan (untuk tahun reguler). Buat loop yang mencetak:for\n",
        "\n",
        "The number of days in MONTH is XX days\n",
        "\n",
        "di mana, tentu saja, Anda mencetak nama bulan yang benar untuk dan jumlah hari yang benar untuk . Gunakan f-string.MONTHXX"
      ],
      "metadata": {
        "id": "wZi5UjIHCW9f"
      }
    },
    {
      "cell_type": "code",
      "source": [
        "months = ['January', 'February', 'March', 'April',\\\n",
        "          'May','June', 'July', 'August', 'September',\\\n",
        "          'October', 'November', 'December']\n",
        "days = [31, 28, 31, 30, 31, 30, 31, 31, 30, 31, 30, 31]\n",
        "for i in range(12):\n",
        "    print(f'The number of days in {months[i]} is {days[i]}')"
      ],
      "metadata": {
        "id": "_M_L_F15Co_e"
      },
      "execution_count": null,
      "outputs": []
    },
    {
      "cell_type": "markdown",
      "source": [
        "***Latihan 2. Kombinasi untuk loop dengan pernyataan if***\n",
        "\n",
        "Pertimbangkan fungsi\n",
        "\n",
        "ay=cos(x)forx<0 |\n",
        "an=exp(−x)forx≥0\n",
        "\n",
        "Menghitung y bagi x pergi dari −2π ke 2π dengan 100 poin dan membuat grafik. Pastikan batas-batas x-axis berasal dari −2π ke 2π.\n"
      ],
      "metadata": {
        "id": "s9bxen5JDW14"
      }
    },
    {
      "cell_type": "code",
      "source": [
        "x = np.linspace(-2 * np.pi, 2 * np.pi, 100)\n",
        "y = np.zeros_like(x)\n",
        "for i in range(100):\n",
        "    if x[i] < 0:\n",
        "        y[i] = np.cos(x[i])\n",
        "    else:\n",
        "        y[i] = np.exp(-x[i])\n",
        "plt.plot(x, y)\n",
        "plt.xlim(-2 * np.pi, 2 * np.pi);"
      ],
      "metadata": {
        "id": "HOX1LfTMDgbE"
      },
      "execution_count": null,
      "outputs": []
    },
    {
      "cell_type": "markdown",
      "source": [
        "***Latihan 3. Memuat dan mengulang data suhu***\n",
        "\n",
        "Muat data suhu untuk Holland dari file data . Loop melalui semua suhu bulanan dan mencetak pesan yang mencakup nomor bulan dan menyatakan apakah suhu rata-rata bulanan di atas atau di bawah 10 derajatholland_temperature.dat"
      ],
      "metadata": {
        "id": "o95XT8bQDpNT"
      }
    },
    {
      "cell_type": "code",
      "source": [
        "temperature = np.loadtxt('sample_data/holland_temperature.dat')\n",
        "for i in range(len(temperature)):\n",
        "    if temperature[i] < 10:\n",
        "        print('average monthly temperature in month ', i + 1, ' is less than 10 degrees')\n",
        "    else:\n",
        "        print('average monthly temperature in month ', i + 1, ' is more than 10 degrees')"
      ],
      "metadata": {
        "id": "uZYOQcryDvFc"
      },
      "execution_count": null,
      "outputs": []
    },
    {
      "cell_type": "markdown",
      "source": [
        "***Latihan 4. Total berjalan***\n",
        "\n",
        "Untuk data contoh sebelumnya, hitung total yang berjalan dan simpan dalam array menggunakan loop. Oleh karena itu, hasilnya harus berupa array dengan panjang yang sama dengan di mana item adalah jumlah semua nilai dalam array hingga dan termasuk . Cetak array dan array dengan total berjalan ke layar. Akhirnya, periksa jawaban Anda dengan menggunakan fungsi , yang seharusnya memberikan jawaban yang sama dengan loop Anda.dataidatadata[i]datacumsumnumpy"
      ],
      "metadata": {
        "id": "oeU60E95D-l3"
      }
    },
    {
      "cell_type": "code",
      "source": [
        "data = np.array([1, 3, 2, 5, 7, 3, 4, 2])\n",
        "runningtotal = np.zeros_like(data)\n",
        "runningtotal[0] = data[0]\n",
        "for i in range(1, len(data)):\n",
        "    runningtotal[i] = runningtotal[i-1] + data[i]\n",
        "print('data values:', data)\n",
        "print('running total:', runningtotal)\n",
        "print('running total with numpy:', np.cumsum(data))"
      ],
      "metadata": {
        "id": "rubzAKUFEFqf"
      },
      "execution_count": null,
      "outputs": []
    },
    {
      "cell_type": "markdown",
      "source": [
        "***Latihan 5. Bulan yang paling dekat dengan 15 derajat***\n",
        "\n",
        "Temukan bulan di mana suhu bulanan rata-rata di Belanda paling dekat dengan 15 derajat (gunakan data dari Latihan 3). Terapkan pendekatan yang dijelaskan di atas dengan mengulang semua nilai dan gunakan pernyataan di dalam loop. Anda mungkin juga ingin menggunakan fungsi ini untuk menghitung nilai absolut dari suatu angka. Periksa jawaban Anda dengan menggunakan beberapa metode yang tidak memerlukan loop dan pernyataan.ifabsnumpyif"
      ],
      "metadata": {
        "id": "Snno1uAbEVc3"
      }
    },
    {
      "cell_type": "code",
      "source": [
        "temperature = np.loadtxt('sample_data/holland_temperature.dat')\n",
        "print(temperature)\n",
        "monthindex = -1\n",
        "tdiff = 100.0\n",
        "for i in range(12):\n",
        "    if abs(temperature[i] - 15) < tdiff:\n",
        "        monthindex = i\n",
        "        tdiff = abs(temperature[i] - 15)\n",
        "print('Number of month closest to 15 degrees, temp: ', monthindex + 1, temperature[monthindex])\n",
        "print('Alternative method:')\n",
        "altmin = np.argmin(abs(temperature - 15))\n",
        "print('Number of month closest to 15 degrees, temp: ', altmin + 1, temperature[altmin])"
      ],
      "metadata": {
        "id": "hM64xbJQEbIA"
      },
      "execution_count": null,
      "outputs": []
    },
    {
      "cell_type": "markdown",
      "source": [
        "***Latihan 6, Data minyak***\n",
        "\n",
        "File tersebut berisi harga minyak bulanan sejak 1985. File berisi tiga kolom: tahun, bulan, harga dalam Euro (dari situs web bank eropa). Buat sebidang harga minyak (letakkan angka di sepanjang sumbu horizontal; kita akan belajar bagaimana melakukan tanggal di buku catatan lain) dan menentukan bulan dan tahun harga minyak pertama naik di atas 40 euro, di atas 60 euro, dan di atas 80 euro. Anda perlu menulis ke layar sesuatu seperti di mana dan merupakan bulan dan tahun yang benar. Gunakan loop ganda. Bisakah Anda memodifikasi kode sedemikian rupa sehingga tidak mencetak jumlah bulan tetapi nama bulan?oil_price.datThe oil price exceeds 40 euros for the first time in month xx of year yyyyxxyyyy"
      ],
      "metadata": {
        "id": "B3w_03UnEpur"
      }
    },
    {
      "cell_type": "code",
      "source": [
        "oilprice = np.loadtxt('sample_data/oil_price_monthly.dat', delimiter=',')\n",
        "plt.plot(oilprice[:,2], 'b-')\n",
        "nrow, ncol = oilprice.shape\n",
        "months = ['January', 'February', 'March', 'April',\\\n",
        "          'May','June', 'July', 'August', 'September',\\\n",
        "          'October', 'November', 'December']\n",
        "for price in [40, 60, 80]:\n",
        "    for i in range(nrow):\n",
        "        if oilprice[i, 2] > price:\n",
        "            print(f'The oil price exceeds {price} euros for the first time in', \\\n",
        "                  f'{months[int(oilprice[i, 1])]} of {oilprice[i, 0]:.0f}')\n",
        "            break"
      ],
      "metadata": {
        "id": "kNOs3W8LE0pN"
      },
      "execution_count": null,
      "outputs": []
    },
    {
      "cell_type": "markdown",
      "source": [
        "***Latihan 7. Temukan posisi nama Anda dalam daftar***"
      ],
      "metadata": {
        "id": "8PWzpQ71FCdn"
      }
    },
    {
      "cell_type": "markdown",
      "source": [
        "Gunakan loop untuk mencari tahu di antara dua nama mana nama Anda termasuk dalam daftar dan cetak hasilnya ke layar.['Aaldrich', 'Babette', 'Chris', 'Franka', 'Joe', 'Louisa', 'Pierre', 'Simone', 'Tarek', 'Yvonne', 'Zu']"
      ],
      "metadata": {
        "id": "-WZKDV4WFIVD"
      }
    },
    {
      "cell_type": "code",
      "source": [
        "x = ['Aaldrich', 'Babette', 'Chris', 'Franka', 'Joe', 'Louisa', 'Pierre', 'Simone', 'Tarek', 'Yvonne', 'Zu']\n",
        "myname = 'Guido'\n",
        "for i in range(len(x)):\n",
        "    if myname < x[i]:\n",
        "        break\n",
        "print(myname, 'is between', x[i-1], 'and', x[i])"
      ],
      "metadata": {
        "id": "dQWXDhPkFKCs"
      },
      "execution_count": null,
      "outputs": []
    }
  ]
}