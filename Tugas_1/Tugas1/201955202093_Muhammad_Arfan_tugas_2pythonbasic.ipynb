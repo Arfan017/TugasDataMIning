{
  "nbformat": 4,
  "nbformat_minor": 0,
  "metadata": {
    "colab": {
      "name": "201955202093_Muhammad_Arfan_tugas_2pythonbasic.ipynb",
      "provenance": []
    },
    "kernelspec": {
      "name": "python3",
      "display_name": "Python 3"
    },
    "language_info": {
      "name": "python"
    }
  },
  "cells": [
    {
      "cell_type": "markdown",
      "source": [
        "## **Notebook 2 : Arrays**\n",
        "\n"
      ],
      "metadata": {
        "id": "HydbAEWhrxXC"
      }
    },
    {
      "cell_type": "code",
      "source": [
        "%matplotlib inline\n",
        "import numpy as np\n",
        "import matplotlib.pyplot as plt"
      ],
      "metadata": {
        "id": "L2VFNfUBemzw"
      },
      "execution_count": 1,
      "outputs": []
    },
    {
      "cell_type": "markdown",
      "source": [
        "**Array satu-dimesional‎**\n",
        "\n",
        "‎Ada banyak cara untuk membuat array. Misalnya, Anda dapat memasukkan elemen individual dari array‎"
      ],
      "metadata": {
        "id": "3dNj6zo3sAYD"
      }
    },
    {
      "cell_type": "code",
      "source": [
        "np.array([1, 7, 2, 12])\n"
      ],
      "metadata": {
        "id": "wlW5AcMyfjEJ"
      },
      "execution_count": null,
      "outputs": []
    },
    {
      "cell_type": "code",
      "source": [
        "print(np.arange(1, 7)) \n",
        "print(np.arange(5))"
      ],
      "metadata": {
        "id": "am_c28l4fp0I"
      },
      "execution_count": null,
      "outputs": []
    },
    {
      "cell_type": "code",
      "source": [
        "x = np.array([1, 7, 2, 12])\n",
        "print('number of dimensions of x:', np.ndim(x))\n",
        "print('length of x:', len(x))"
      ],
      "metadata": {
        "id": "6INcOwVwfult"
      },
      "execution_count": null,
      "outputs": []
    },
    {
      "cell_type": "code",
      "source": [
        "x = np.arange(20, 30)\n",
        "print('array x:', x)\n",
        "print('value with index 0:', x[0])\n",
        "print('value with index 5:', x[5])"
      ],
      "metadata": {
        "id": "QeKLQyI4fymJ"
      },
      "execution_count": null,
      "outputs": []
    },
    {
      "cell_type": "code",
      "source": [
        "x = np.arange(20, 30)\n",
        "print(x)\n",
        "print(x[0:5])\n",
        "print(x[:5])\n",
        "print(x[3:7])\n",
        "print(x[2:9:2])"
      ],
      "metadata": {
        "id": "T_B3jgEAf49l"
      },
      "execution_count": null,
      "outputs": []
    },
    {
      "cell_type": "code",
      "source": [
        "xvalues = np.arange(0, 100, 10)\n",
        "print(xvalues)\n",
        "print(xvalues[len(xvalues) - 1])  \n",
        "print(xvalues[-1]) \n",
        "print(xvalues[-1::-1])"
      ],
      "metadata": {
        "id": "Nl3xnY2Tf9fO"
      },
      "execution_count": null,
      "outputs": []
    },
    {
      "cell_type": "code",
      "source": [
        "x = 20 * np.ones(10)\n",
        "print(x)\n",
        "x[0:5] = 40\n",
        "print(x)\n",
        "x[0:5] = np.arange(40, 50, 2)\n",
        "print(x)"
      ],
      "metadata": {
        "id": "JI2xREQTgBlZ"
      },
      "execution_count": null,
      "outputs": []
    },
    {
      "cell_type": "markdown",
      "source": [
        "**Arrays, Lists, and Tuples**\n",
        "\n"
      ],
      "metadata": {
        "id": "TdoBdtlgvjzw"
      }
    },
    {
      "cell_type": "code",
      "source": [
        "alist = [1, 2, 3]\n",
        "print('alist', alist)\n",
        "btuple = (10, 20, 30)\n",
        "print('btuple', btuple)\n",
        "alist[0] = 7  \n",
        "print('modified alist', alist)\n",
        "#btuple[0] = 100  \n",
        "#print(2 * alist)"
      ],
      "metadata": {
        "id": "YvbriKMZgE2d"
      },
      "execution_count": null,
      "outputs": []
    },
    {
      "cell_type": "code",
      "source": [
        "alist = [1, 20.0, 'python', np.array([1,2,3]), len]\n",
        "print(alist)\n",
        "print(alist[0])\n",
        "print(alist[2])\n",
        "print(alist[4](alist[3])) "
      ],
      "metadata": {
        "id": "sPxghZS7gJap"
      },
      "execution_count": null,
      "outputs": []
    },
    {
      "cell_type": "markdown",
      "source": [
        "**Two-dimensional arrays**\n"
      ],
      "metadata": {
        "id": "U_8pB4zlsRQA"
      }
    },
    {
      "cell_type": "code",
      "source": [
        "x = np.ones((3, 4)) # An array with 3 rows and 4 columns\n",
        "print(x)"
      ],
      "metadata": {
        "id": "ZjQmz4UmgR-5"
      },
      "execution_count": null,
      "outputs": []
    },
    {
      "cell_type": "code",
      "source": [
        "x = np.array([[4, 2, 3, 2],\n",
        "              [2, 4, 3, 1],\n",
        "              [0, 4, 1, 3]])\n",
        "print(x)\n",
        "print(np.reshape(x, (2, 6)))  \n",
        "print(np.reshape(x, (1, 12)))"
      ],
      "metadata": {
        "id": "q9gAeDZzgWoX"
      },
      "execution_count": null,
      "outputs": []
    },
    {
      "cell_type": "code",
      "source": [
        "x = np.zeros((3, 8))\n",
        "x[0, 0] = 100\n",
        "x[1, 4:] = 200  \n",
        "x[2, -1:4:-1] = 400  \n",
        "print(x)"
      ],
      "metadata": {
        "id": "mMOyvGMigZY5"
      },
      "execution_count": null,
      "outputs": []
    },
    {
      "cell_type": "markdown",
      "source": [
        "**Arrays are not matrices**\n"
      ],
      "metadata": {
        "id": "xUDdJW9-sVZ4"
      }
    },
    {
      "cell_type": "code",
      "source": [
        "a = np.arange(4, 20, 4)\n",
        "b = np.array([2, 2, 4, 4])\n",
        "print('array a:', a)\n",
        "print('array b:', b)\n",
        "print('a * b  :', a * b) \n",
        "print('a / b  :', a / b)"
      ],
      "metadata": {
        "id": "UEctNfgbggDY"
      },
      "execution_count": null,
      "outputs": []
    },
    {
      "cell_type": "markdown",
      "source": [
        "**Visualizing two-dimensional arrays**"
      ],
      "metadata": {
        "id": "s0fOv2Rosalz"
      }
    },
    {
      "cell_type": "code",
      "source": [
        "x = np.array([[8, 4, 6, 2],\n",
        "              [4, 8, 6, 2],\n",
        "              [4, 8, 2, 6],\n",
        "              [8, 2, 4, 6]])\n",
        "plt.matshow(x)\n",
        "plt.colorbar(ticks=[2, 4, 6, 8], shrink=0.8)\n",
        "print(x)"
      ],
      "metadata": {
        "id": "8uhfTLTJgkNw"
      },
      "execution_count": null,
      "outputs": []
    },
    {
      "cell_type": "code",
      "source": [
        "plt.matshow(x, cmap='rainbow')\n",
        "plt.colorbar(ticks=np.arange(2, 9, 2), shrink=0.8);"
      ],
      "metadata": {
        "id": "QMpAkc8WgxYA"
      },
      "execution_count": null,
      "outputs": []
    },
    {
      "cell_type": "markdown",
      "source": [
        "**Using conditions on arrays**\n",
        "\n"
      ],
      "metadata": {
        "id": "DNlQY81owEzL"
      }
    },
    {
      "cell_type": "code",
      "source": [
        "a = 4\n",
        "print('a < 2:', a < 2)\n",
        "print('a > 2:', a > 2)"
      ],
      "metadata": {
        "id": "szzi_JnGhIdF"
      },
      "execution_count": null,
      "outputs": []
    },
    {
      "cell_type": "code",
      "source": [
        "a = 4\n",
        "print('the value of a is', a)\n",
        "print('a < 4: ', a < 4)\n",
        "print('a <= 4:', a <= 4) \n",
        "print('a == 4:', a == 4)\n",
        "print('a >= 4:', a >= 4) \n",
        "print('a > 4: ', a > 4)\n",
        "print('a != 4:', a != 4)"
      ],
      "metadata": {
        "id": "ANXqVOsmhLUA"
      },
      "execution_count": null,
      "outputs": []
    },
    {
      "cell_type": "code",
      "source": [
        "print(4 == 4)\n",
        "a = 4 == 5\n",
        "print(a)\n",
        "print(type(a))"
      ],
      "metadata": {
        "id": "VYGR_KtWhOle"
      },
      "execution_count": null,
      "outputs": []
    },
    {
      "cell_type": "code",
      "source": [
        "data = np.arange(5)\n",
        "print(data)\n",
        "print(data < 3)"
      ],
      "metadata": {
        "id": "a74F8faBhUdx"
      },
      "execution_count": null,
      "outputs": []
    },
    {
      "cell_type": "code",
      "source": [
        "a = np.arange(5)\n",
        "print(a)\n",
        "print(a[[True, True, False, False, True]])"
      ],
      "metadata": {
        "id": "zeCcI7ffhWqv"
      },
      "execution_count": null,
      "outputs": []
    },
    {
      "cell_type": "code",
      "source": [
        "a = np.arange(5)\n",
        "print('the total array:', a)\n",
        "print('values less than 3:', a[a < 3])"
      ],
      "metadata": {
        "id": "JORG2x2whbzW"
      },
      "execution_count": null,
      "outputs": []
    },
    {
      "cell_type": "code",
      "source": [
        "a = np.arange(5)\n",
        "print(a)\n",
        "a[a < 3] = 10\n",
        "print(a)"
      ],
      "metadata": {
        "id": "hyMDYyb9heu9"
      },
      "execution_count": null,
      "outputs": []
    },
    {
      "cell_type": "markdown",
      "source": [
        "**Select indices based on multiple conditions**\n",
        "\n"
      ],
      "metadata": {
        "id": "myd7nZ6RuRbt"
      }
    },
    {
      "cell_type": "code",
      "source": [
        "x = np.linspace(0, 6 * np.pi, 50)\n",
        "y = np.sin(x)\n",
        "plt.plot(x[(y > 0.7) | (y < -0.5)], y[(y > 0.7) | (y < -0.5)], 'bo')\n",
        "plt.plot(x[(y > -0.5) & (y < 0.7)], y[(y > -0.5) & (y < 0.7)], 'ro');"
      ],
      "metadata": {
        "id": "iCMLmw0shky1"
      },
      "execution_count": null,
      "outputs": []
    },
    {
      "cell_type": "markdown",
      "source": [
        "***Exercise 1, Arrays and indices***\n",
        "\n",
        "Buat array nol dengan panjang 20. Ubah 5 nilai pertama menjadi 10. Ubah 10 nilai berikutnya ke urutan mulai dari 12 dan increasig dengan langkah 2 hingga 30 (lakukan ini dengan satu perintah). Atur 5 nilai terakhir menjadi 30. Plot nilai array pada ‎‎dan‎‎-axis vs. indeks array pada ‎x‎-axis. Gambar garis putus-putus vertikal di ‎x=4‎ dan ‎x=14‎ (yaitu, bagian antara garis putus-putus adalah tempat garis meningkat dari 10 menjadi 30). Mengatur nilai minimum dan maksimum dari ‎‎dan‎‎-axis ke 8 dan 32 menggunakan perintah.‎ylim"
      ],
      "metadata": {
        "id": "Sk39ewatuO6h"
      }
    },
    {
      "cell_type": "code",
      "source": [
        "x = np.zeros(20)\n",
        "x[:5] = 10\n",
        "x[5:15] = np.arange(12, 31, 2)\n",
        "x[15:] = 30\n",
        "plt.plot(x)\n",
        "plt.plot([4, 4], [8, 32],'k--')\n",
        "plt.plot([14, 14], [8, 32],'k--')\n",
        "plt.ylim(8, 32);\n"
      ],
      "metadata": {
        "id": "mbWhiwm4hu40"
      },
      "execution_count": null,
      "outputs": []
    },
    {
      "cell_type": "markdown",
      "source": [
        "***Exercise 2, Two-dimensional array indices***\n",
        "\n",
        "Untuk array yang ditunjukkan di bawah ini, tulis kode untuk dicetak:‎x | \n",
        "\n",
        "‎baris pertama dari ‎x, \n",
        "‎kolom pertama dari ‎x, \n",
        "‎baris ketiga dari ‎x, \n",
        "‎dua kolom terakhir dari ‎x, \n",
        "‎blok nilai 2 per 2 di sudut kanan atas ‎x\n",
        "‎blok nilai 2 per 2 di tengah ‎x\n",
        "x = np.array([[4, 2, 3, 2], [2, 4, 3, 1], [2, 4, 1, 3], [4, 1, 2, 3]])"
      ],
      "metadata": {
        "id": "dot523pcuE7Q"
      }
    },
    {
      "cell_type": "code",
      "source": [
        "x = np.array([[4, 2, 3, 2],\n",
        "              [2, 4, 3, 1],\n",
        "              [2, 4, 1, 3],\n",
        "              [4, 1, 2, 3]])\n",
        "print('the first row of x')\n",
        "print(x[0])\n",
        "print('the first column of x')\n",
        "print(x[:, 0])\n",
        "print('the third row of x')\n",
        "print(x[2])\n",
        "print('the last two columns of x')\n",
        "print(x[:, -2:])\n",
        "print('the four values in the upper right hand corner')\n",
        "print(x[:2, 2:])\n",
        "print('the four values at the center of x')\n",
        "print(x[1:3, 1:3])"
      ],
      "metadata": {
        "id": "Nv5BdZDVhyHN"
      },
      "execution_count": null,
      "outputs": []
    },
    {
      "cell_type": "markdown",
      "source": [
        "***Exercise 3, Create and visualize an array***\n",
        "\n",
        "‎Buat array ukuran 10 kali 10. Atur kuadran kiri atas array harus ke 4, kuadran kanan atas ke 3, kuadran kanan bawah t0 2 dan kuadran kiri bawah ke 1. Pertama buat array 10 kali 10 menggunakan perintah, lalu isi setiap kuadran dengan menentukan rentang indeks yang benar. Visualisasikan array menggunakan . Ini harus memberikan kotak merah, kuning, biru muda dan biru tua (jam-bijaksana mulai dari kiri atas) ketika Anda menggunakan peta warna.‎zerosmatshowjet\n"
      ],
      "metadata": {
        "id": "YAUlstTet3Yj"
      }
    },
    {
      "cell_type": "code",
      "source": [
        "x = np.zeros((10, 10))\n",
        "x[:5, :5] = 4\n",
        "x[:5, 5:] = 3\n",
        "x[5:, 5:] = 2\n",
        "x[5:, :5] = 1\n",
        "print(x)\n",
        "plt.matshow(x, cmap='jet')\n",
        "plt.colorbar(ticks=[1, 2, 3, 4], shrink=0.8);"
      ],
      "metadata": {
        "id": "p0aHwRXUh2Qu"
      },
      "execution_count": null,
      "outputs": []
    },
    {
      "cell_type": "markdown",
      "source": [
        "***Exercise 4, Create and visualize a slightly fancier array***\n",
        "\n",
        "‎Pertimbangkan gambar yang ditunjukkan di bawah ini, yang kira-kira menunjukkan huruf TU. Anda diminta untuk membuat array yang mewakili TU yang sama. Pertama buat array nol dari 11 baris dan 17 kolom. Berikan nilai latar belakang 0, nilai huruf T -1, dan huruf U nilai +1. Gunakan peta warna."
      ],
      "metadata": {
        "id": "zsLkwK_Hsp_Q"
      }
    },
    {
      "cell_type": "code",
      "source": [
        "x = np.zeros((11, 17))\n",
        "x[2:4, 1:7] = -1\n",
        "x[2:9, 3:5] = -1\n",
        "x[2:9, 8:10] = 1\n",
        "x[2:9, 13:15] = 1\n",
        "x[7:9, 10:13] = 1\n",
        "print(x)\n",
        "plt.matshow(x, cmap='jet')\n",
        "plt.yticks(range(11, -1, -1))\n",
        "plt.xticks(range(0, 17));\n",
        "plt.ylim(10.5, -0.5)\n",
        "plt.xlim(-0.5, 16.5);"
      ],
      "metadata": {
        "id": "6HWBHZ7ah4nH"
      },
      "execution_count": null,
      "outputs": []
    },
    {
      "cell_type": "markdown",
      "source": [
        "***Exercise 5, Replace high and low values in an array***\n",
        "\n",
        "‎Membuat array untuk variabel ‎x‎ terdiri dari 100 nilai dari 0 hingga 20. Menghitung ‎‎dan‎=‎dosa‎‎(‎‎x‎)‎ dan plot ‎‎dan‎ vs. x‎ dengan garis biru. Selanjutnya, ganti semua nilai dari ‎‎dan‎‎ yang lebih besar dari 0,5 kali 0,5, dan semua nilai yang lebih kecil dari ‎−‎0.75 oleh ‎−‎0.75, dan plot yang dimodifikasi ‎‎dan‎‎ nilai vs. ‎x‎ menggunakan garis merah pada grafik yang sama.‎"
      ],
      "metadata": {
        "id": "624jAeq3thlv"
      }
    },
    {
      "cell_type": "code",
      "source": [
        "x = np.linspace(0, 20, 100)\n",
        "y = np.sin(x)\n",
        "plt.plot(x, y, 'b')\n",
        "y[y > 0.5] = 0.5\n",
        "y[y < -0.75] = -0.75\n",
        "plt.plot(x, y, 'r');"
      ],
      "metadata": {
        "id": "T9CR6ugwh6_N"
      },
      "execution_count": null,
      "outputs": []
    },
    {
      "cell_type": "markdown",
      "source": [
        "***Exercise 6, Change marker color based on data value***\n",
        "\n",
        "‎Membuat array untuk variabel ‎x‎ terdiri dari 100 poin dari 0 hingga 20 dan komputasi ‎‎dan‎=‎dosa‎‎(‎‎x‎)‎. Plot titik biru untuk setiap ‎‎dan‎‎ itu lebih besar dari nol, dan titik merah sebaliknya‎"
      ],
      "metadata": {
        "id": "MIuF0WQwtS6Q"
      }
    },
    {
      "cell_type": "code",
      "source": [
        "x = np.linspace(0, 20, 100)\n",
        "y = np.sin(x)\n",
        "plt.plot(x[y > 0], y[y > 0], 'bo')\n",
        "plt.plot(x[y <= 0], y[y <= 0], 'ro');"
      ],
      "metadata": {
        "id": "mAsv0eXwh9Ok"
      },
      "execution_count": null,
      "outputs": []
    },
    {
      "cell_type": "markdown",
      "source": [
        "***Exercise 8, Fix the error***\n",
        "\n",
        "‎Dalam kode di bawah ini, ini dimaksudkan untuk memberikan 5 nilai terakhir dari array nilai [50, 52, 54, 56, 58] dan mencetak hasilnya ke layar, tetapi ada beberapa kesalahan dalam kode. Hapus penanda komentar dan jalankan kode untuk melihat pesan kesalahan. Kemudian perbaiki kode dan jalankan lagi.‎x"
      ],
      "metadata": {
        "id": "4_fGvdrss97B"
      }
    },
    {
      "cell_type": "code",
      "source": [
        "x = np.ones(10)\n",
        "x[5:] = np.arange(50, 60, 2)\n",
        "print(x)"
      ],
      "metadata": {
        "id": "iMJSARhIjkFs"
      },
      "execution_count": null,
      "outputs": []
    },
    {
      "cell_type": "markdown",
      "source": [
        "***Exercise 7, Multiple conditions***\n",
        "\n",
        "‎Latihan 7, ‎‎ Beberapa kondisi‎\n",
        "‎File berisi 1000 yang dipilih secara acak ‎xypoints.datx,‎dan‎‎ lokasi titik; keduanya ‎x‎ dan ‎‎dan‎‎ bervariasi antara -10 dan 10. Muat data menggunakan , dan simpan baris pertama array dalam array yang disebut dan baris kedua dalam array yang disebut . Pertama, plot titik merah untuk semua poin. Pada grafik yang sama, plot titik biru untuk semua ‎loadtxtxyx,‎dan‎‎ titik-titik di mana ‎‎x‎‎<‎‎-‎‎2‎‎ dan ‎−5≤‎dan‎≤0‎. Akhirnya, plot titik hijau untuk setiap titik yang terletak di lingkaran dengan pusat ‎(xc,‎dan‎c)=(‎5,0‎)‎ dan dengan radius ‎R=5‎. Petunjuk: mungkin berguna untuk menghitung array baru untuk jarak radial ‎r‎ antara titik mana pun dan pusat lingkaran menggunakan rumus ‎r=(x−xc)2+(‎dan‎−‎dan‎c)2−−−−−−−−−−−−−−−−−√‎. Gunakan perintah untuk memastikan skala di sepanjang dua sumbu sama dan area melingkar terlihat seperti lingkaran.‎plt.axis('equal')"
      ],
      "metadata": {
        "id": "Ka8X9oC8tJtd"
      }
    },
    {
      "cell_type": "code",
      "source": [
        "x, y = np.loadtxt('sample_data/xypoints.dat')\n",
        "plt.plot(x, y, 'ro')\n",
        "plt.plot(x[(x < -2) & (y >= -5) & (y < 0)], y[(x < -2) & (y >= -5) & (y < 0)], 'bo')\n",
        "r = np.sqrt((x - 5) ** 2 + y ** 2)\n",
        "plt.plot(x[r < 5], y[r < 5], 'go')\n",
        "plt.axis('scaled');"
      ],
      "metadata": {
        "id": "aF6qQDY2jo-P"
      },
      "execution_count": null,
      "outputs": []
    }
  ]
}